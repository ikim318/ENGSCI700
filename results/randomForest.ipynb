{
 "cells": [
  {
   "cell_type": "markdown",
   "id": "0e231576",
   "metadata": {},
   "source": [
    "### Packages"
   ]
  },
  {
   "cell_type": "code",
   "execution_count": 1,
   "id": "6e859303",
   "metadata": {},
   "outputs": [],
   "source": [
    "import pandas as pd\n",
    "import matplotlib.pyplot as plt\n",
    "import networkx as nx\n",
    "import numpy as np\n",
    "import seaborn as sns\n",
    "import re\n",
    "from scipy.stats import ttest_ind\n",
    "from statsmodels.stats.multitest import multipletests\n",
    "from sklearn.ensemble import RandomForestClassifier\n",
    "from sklearn.model_selection import StratifiedKFold, cross_val_score, cross_val_predict\n",
    "from sklearn.preprocessing import StandardScaler\n",
    "from sklearn.metrics import classification_report, roc_auc_score, confusion_matrix"
   ]
  },
  {
   "cell_type": "markdown",
   "id": "3687654b",
   "metadata": {},
   "source": [
    "# Set Up"
   ]
  },
  {
   "cell_type": "markdown",
   "id": "aaba8c85",
   "metadata": {},
   "source": [
    "### Demographic"
   ]
  },
  {
   "cell_type": "code",
   "execution_count": 2,
   "id": "bc057505",
   "metadata": {},
   "outputs": [
    {
     "data": {
      "application/vnd.microsoft.datawrangler.viewer.v0+json": {
       "columns": [
        {
         "name": "index",
         "rawType": "int64",
         "type": "integer"
        },
        {
         "name": "Participant_ID",
         "rawType": "int64",
         "type": "integer"
        },
        {
         "name": "ADHD/NT",
         "rawType": "object",
         "type": "string"
        },
        {
         "name": "Gender",
         "rawType": "object",
         "type": "string"
        }
       ],
       "ref": "b08e4a74-66f1-455b-85e8-dde8b49b3ee3",
       "rows": [
        [
         "0",
         "200",
         "NT",
         "F"
        ],
        [
         "1",
         "201",
         "ADHD",
         "F"
        ],
        [
         "2",
         "202",
         "NT",
         "F"
        ],
        [
         "3",
         "205",
         "NT",
         "F"
        ],
        [
         "4",
         "207",
         "NT",
         "F"
        ]
       ],
       "shape": {
        "columns": 3,
        "rows": 5
       }
      },
      "text/html": [
       "<div>\n",
       "<style scoped>\n",
       "    .dataframe tbody tr th:only-of-type {\n",
       "        vertical-align: middle;\n",
       "    }\n",
       "\n",
       "    .dataframe tbody tr th {\n",
       "        vertical-align: top;\n",
       "    }\n",
       "\n",
       "    .dataframe thead th {\n",
       "        text-align: right;\n",
       "    }\n",
       "</style>\n",
       "<table border=\"1\" class=\"dataframe\">\n",
       "  <thead>\n",
       "    <tr style=\"text-align: right;\">\n",
       "      <th></th>\n",
       "      <th>Participant_ID</th>\n",
       "      <th>ADHD/NT</th>\n",
       "      <th>Gender</th>\n",
       "    </tr>\n",
       "  </thead>\n",
       "  <tbody>\n",
       "    <tr>\n",
       "      <th>0</th>\n",
       "      <td>200</td>\n",
       "      <td>NT</td>\n",
       "      <td>F</td>\n",
       "    </tr>\n",
       "    <tr>\n",
       "      <th>1</th>\n",
       "      <td>201</td>\n",
       "      <td>ADHD</td>\n",
       "      <td>F</td>\n",
       "    </tr>\n",
       "    <tr>\n",
       "      <th>2</th>\n",
       "      <td>202</td>\n",
       "      <td>NT</td>\n",
       "      <td>F</td>\n",
       "    </tr>\n",
       "    <tr>\n",
       "      <th>3</th>\n",
       "      <td>205</td>\n",
       "      <td>NT</td>\n",
       "      <td>F</td>\n",
       "    </tr>\n",
       "    <tr>\n",
       "      <th>4</th>\n",
       "      <td>207</td>\n",
       "      <td>NT</td>\n",
       "      <td>F</td>\n",
       "    </tr>\n",
       "  </tbody>\n",
       "</table>\n",
       "</div>"
      ],
      "text/plain": [
       "   Participant_ID ADHD/NT Gender\n",
       "0             200      NT      F\n",
       "1             201    ADHD      F\n",
       "2             202      NT      F\n",
       "3             205      NT      F\n",
       "4             207      NT      F"
      ]
     },
     "execution_count": 2,
     "metadata": {},
     "output_type": "execute_result"
    }
   ],
   "source": [
    "info = pd.read_excel('../data/Brain_networks/Demographic.xlsx')\n",
    "info['Participant_ID'] = info['Participant_ID'].apply(lambda x: int(re.findall(r'\\d+', str(x))[0]))\n",
    "\n",
    "# Remove duplicates\n",
    "info = info.drop_duplicates(subset='Participant_ID')\n",
    "\n",
    "# Reset index (optional)\n",
    "info = info.reset_index(drop=True)\n",
    "\n",
    "# Display the result\n",
    "info.head()"
   ]
  },
  {
   "cell_type": "markdown",
   "id": "a42c70da",
   "metadata": {},
   "source": [
    "### Define"
   ]
  },
  {
   "cell_type": "code",
   "execution_count": 3,
   "id": "6d60087a",
   "metadata": {},
   "outputs": [],
   "source": [
    "condition_map = {\n",
    "    'rsfMRI_HB6': 'rest',\n",
    "    'flanker_events': 'task',\n",
    "    'flanker_events_twitching': 'twitching'\n",
    "}\n",
    "\n",
    "exclude_cols = ['Participant_ID', 'Sequence_name', 'Condition_matfile', 'Condition', 'ADHD/NT', 'Gender']"
   ]
  },
  {
   "cell_type": "code",
   "execution_count": 4,
   "id": "fb90a532",
   "metadata": {},
   "outputs": [
    {
     "data": {
      "application/vnd.microsoft.datawrangler.viewer.v0+json": {
       "columns": [
        {
         "name": "index",
         "rawType": "int64",
         "type": "integer"
        },
        {
         "name": "Feature",
         "rawType": "object",
         "type": "string"
        },
        {
         "name": "F-statistic",
         "rawType": "float64",
         "type": "float"
        },
        {
         "name": "p-value",
         "rawType": "float64",
         "type": "float"
        },
        {
         "name": "condition",
         "rawType": "object",
         "type": "string"
        }
       ],
       "ref": "3898d5c7-c6e4-472f-83e1-0e32c16a1c7d",
       "rows": [
        [
         "0",
         "Medial-Occipital",
         "7.251092316106464",
         "0.009247865848151834",
         "rest"
        ],
        [
         "1",
         "Occipital-Lateral(L)",
         "6.771684519753753",
         "0.01173670140207523",
         "rest"
        ],
        [
         "2",
         "Medial-Lateral(L)",
         "26.53536443279224",
         "3.240656845735804e-06",
         "task"
        ],
        [
         "3",
         "Medial-Lateral(R)",
         "18.98898856608892",
         "5.437671768523351e-05",
         "task"
        ],
        [
         "4",
         "ACC-RPFC(L)",
         "5.479465585857666",
         "0.02270075223596801",
         "task"
        ],
        [
         "5",
         "AInsula(L)-RPFC(R)",
         "4.295991208960268",
         "0.04265616145061751",
         "task"
        ],
        [
         "6",
         "LPFC(L)-PPC(L)",
         "6.861821298013727",
         "0.01121963483643665",
         "task"
        ]
       ],
       "shape": {
        "columns": 4,
        "rows": 7
       }
      },
      "text/html": [
       "<div>\n",
       "<style scoped>\n",
       "    .dataframe tbody tr th:only-of-type {\n",
       "        vertical-align: middle;\n",
       "    }\n",
       "\n",
       "    .dataframe tbody tr th {\n",
       "        vertical-align: top;\n",
       "    }\n",
       "\n",
       "    .dataframe thead th {\n",
       "        text-align: right;\n",
       "    }\n",
       "</style>\n",
       "<table border=\"1\" class=\"dataframe\">\n",
       "  <thead>\n",
       "    <tr style=\"text-align: right;\">\n",
       "      <th></th>\n",
       "      <th>Feature</th>\n",
       "      <th>F-statistic</th>\n",
       "      <th>p-value</th>\n",
       "      <th>condition</th>\n",
       "    </tr>\n",
       "  </thead>\n",
       "  <tbody>\n",
       "    <tr>\n",
       "      <th>0</th>\n",
       "      <td>Medial-Occipital</td>\n",
       "      <td>7.251092</td>\n",
       "      <td>0.009248</td>\n",
       "      <td>rest</td>\n",
       "    </tr>\n",
       "    <tr>\n",
       "      <th>1</th>\n",
       "      <td>Occipital-Lateral(L)</td>\n",
       "      <td>6.771685</td>\n",
       "      <td>0.011737</td>\n",
       "      <td>rest</td>\n",
       "    </tr>\n",
       "    <tr>\n",
       "      <th>2</th>\n",
       "      <td>Medial-Lateral(L)</td>\n",
       "      <td>26.535364</td>\n",
       "      <td>0.000003</td>\n",
       "      <td>task</td>\n",
       "    </tr>\n",
       "    <tr>\n",
       "      <th>3</th>\n",
       "      <td>Medial-Lateral(R)</td>\n",
       "      <td>18.988989</td>\n",
       "      <td>0.000054</td>\n",
       "      <td>task</td>\n",
       "    </tr>\n",
       "    <tr>\n",
       "      <th>4</th>\n",
       "      <td>ACC-RPFC(L)</td>\n",
       "      <td>5.479466</td>\n",
       "      <td>0.022701</td>\n",
       "      <td>task</td>\n",
       "    </tr>\n",
       "    <tr>\n",
       "      <th>5</th>\n",
       "      <td>AInsula(L)-RPFC(R)</td>\n",
       "      <td>4.295991</td>\n",
       "      <td>0.042656</td>\n",
       "      <td>task</td>\n",
       "    </tr>\n",
       "    <tr>\n",
       "      <th>6</th>\n",
       "      <td>LPFC(L)-PPC(L)</td>\n",
       "      <td>6.861821</td>\n",
       "      <td>0.011220</td>\n",
       "      <td>task</td>\n",
       "    </tr>\n",
       "  </tbody>\n",
       "</table>\n",
       "</div>"
      ],
      "text/plain": [
       "                Feature  F-statistic   p-value condition\n",
       "0      Medial-Occipital     7.251092  0.009248      rest\n",
       "1  Occipital-Lateral(L)     6.771685  0.011737      rest\n",
       "2     Medial-Lateral(L)    26.535364  0.000003      task\n",
       "3     Medial-Lateral(R)    18.988989  0.000054      task\n",
       "4           ACC-RPFC(L)     5.479466  0.022701      task\n",
       "5    AInsula(L)-RPFC(R)     4.295991  0.042656      task\n",
       "6        LPFC(L)-PPC(L)     6.861821  0.011220      task"
      ]
     },
     "execution_count": 4,
     "metadata": {},
     "output_type": "execute_result"
    }
   ],
   "source": [
    "significant_networks = pd.read_excel('significant_networks.xlsx')\n",
    "significant_networks"
   ]
  },
  {
   "cell_type": "code",
   "execution_count": 5,
   "id": "63e61854",
   "metadata": {},
   "outputs": [],
   "source": [
    "visual_features = ['Medial-Occipital', 'Occipital-Lateral(L)', 'Medial-Lateral(L)', 'Medial-Lateral(R)']\n",
    "salience_features = ['ACC-RPFC(L)', 'AInsula(L)-RPFC(R)']\n",
    "fp_features = ['LPFC(L)-PPC(L)']"
   ]
  },
  {
   "cell_type": "markdown",
   "id": "fe968eaf",
   "metadata": {},
   "source": [
    "# Random Forest"
   ]
  },
  {
   "cell_type": "markdown",
   "id": "22d5ac36",
   "metadata": {},
   "source": [
    "## Preprocess"
   ]
  },
  {
   "cell_type": "markdown",
   "id": "db81f403",
   "metadata": {},
   "source": [
    "### Visual"
   ]
  },
  {
   "cell_type": "code",
   "execution_count": 6,
   "id": "78c195cb",
   "metadata": {},
   "outputs": [
    {
     "data": {
      "application/vnd.microsoft.datawrangler.viewer.v0+json": {
       "columns": [
        {
         "name": "index",
         "rawType": "int64",
         "type": "integer"
        },
        {
         "name": "Participant_ID",
         "rawType": "int64",
         "type": "integer"
        },
        {
         "name": "Sequence_name",
         "rawType": "object",
         "type": "string"
        },
        {
         "name": "Condition_matfile",
         "rawType": "object",
         "type": "string"
        },
        {
         "name": "Condition",
         "rawType": "object",
         "type": "string"
        },
        {
         "name": "Medial-Occipital",
         "rawType": "float64",
         "type": "float"
        },
        {
         "name": "Medial-Lateral(L)",
         "rawType": "float64",
         "type": "float"
        },
        {
         "name": "Medial-Lateral(R)",
         "rawType": "float64",
         "type": "float"
        },
        {
         "name": "Occipital-Lateral(L)",
         "rawType": "float64",
         "type": "float"
        },
        {
         "name": "Occipital-Lateral(R)",
         "rawType": "float64",
         "type": "float"
        },
        {
         "name": "Lateral(L)-Lateral(R)",
         "rawType": "float64",
         "type": "float"
        },
        {
         "name": "Averaged_CC",
         "rawType": "float64",
         "type": "float"
        }
       ],
       "ref": "281a2673-495f-4144-be95-c7772dd75ead",
       "rows": [
        [
         "0",
         "200",
         "rsfMRI_HB6",
         "Condition001.mat",
         "rest",
         "0.18123",
         "0.22104",
         "0.032202",
         "0.68723",
         "0.4797",
         "0.97918",
         "0.4301"
        ],
        [
         "1",
         "201",
         "rsfMRI_HB6",
         "Condition001.mat",
         "rest",
         "0.44015",
         "0.56515",
         "0.42759",
         "0.848",
         "0.88916",
         "1.2118",
         "0.73031"
        ],
        [
         "2",
         "202",
         "rsfMRI_HB6",
         "Condition001.mat",
         "rest",
         "0.28081",
         "0.21935",
         "0.58884",
         "0.51701",
         "0.6758",
         "0.87309",
         "0.52582"
        ],
        [
         "3",
         "205",
         "rsfMRI_HB6",
         "Condition001.mat",
         "rest",
         "0.39404",
         "0.88638",
         "0.51938",
         "0.50584",
         "0.28219",
         "1.0813",
         "0.61152"
        ],
        [
         "4",
         "207",
         "rsfMRI_HB6",
         "Condition001.mat",
         "rest",
         "0.44657",
         "0.32933",
         "0.27231",
         "0.47209",
         "0.3813",
         "0.68107",
         "0.43045"
        ]
       ],
       "shape": {
        "columns": 11,
        "rows": 5
       }
      },
      "text/html": [
       "<div>\n",
       "<style scoped>\n",
       "    .dataframe tbody tr th:only-of-type {\n",
       "        vertical-align: middle;\n",
       "    }\n",
       "\n",
       "    .dataframe tbody tr th {\n",
       "        vertical-align: top;\n",
       "    }\n",
       "\n",
       "    .dataframe thead th {\n",
       "        text-align: right;\n",
       "    }\n",
       "</style>\n",
       "<table border=\"1\" class=\"dataframe\">\n",
       "  <thead>\n",
       "    <tr style=\"text-align: right;\">\n",
       "      <th></th>\n",
       "      <th>Participant_ID</th>\n",
       "      <th>Sequence_name</th>\n",
       "      <th>Condition_matfile</th>\n",
       "      <th>Condition</th>\n",
       "      <th>Medial-Occipital</th>\n",
       "      <th>Medial-Lateral(L)</th>\n",
       "      <th>Medial-Lateral(R)</th>\n",
       "      <th>Occipital-Lateral(L)</th>\n",
       "      <th>Occipital-Lateral(R)</th>\n",
       "      <th>Lateral(L)-Lateral(R)</th>\n",
       "      <th>Averaged_CC</th>\n",
       "    </tr>\n",
       "  </thead>\n",
       "  <tbody>\n",
       "    <tr>\n",
       "      <th>0</th>\n",
       "      <td>200</td>\n",
       "      <td>rsfMRI_HB6</td>\n",
       "      <td>Condition001.mat</td>\n",
       "      <td>rest</td>\n",
       "      <td>0.18123</td>\n",
       "      <td>0.22104</td>\n",
       "      <td>0.032202</td>\n",
       "      <td>0.68723</td>\n",
       "      <td>0.47970</td>\n",
       "      <td>0.97918</td>\n",
       "      <td>0.43010</td>\n",
       "    </tr>\n",
       "    <tr>\n",
       "      <th>1</th>\n",
       "      <td>201</td>\n",
       "      <td>rsfMRI_HB6</td>\n",
       "      <td>Condition001.mat</td>\n",
       "      <td>rest</td>\n",
       "      <td>0.44015</td>\n",
       "      <td>0.56515</td>\n",
       "      <td>0.427590</td>\n",
       "      <td>0.84800</td>\n",
       "      <td>0.88916</td>\n",
       "      <td>1.21180</td>\n",
       "      <td>0.73031</td>\n",
       "    </tr>\n",
       "    <tr>\n",
       "      <th>2</th>\n",
       "      <td>202</td>\n",
       "      <td>rsfMRI_HB6</td>\n",
       "      <td>Condition001.mat</td>\n",
       "      <td>rest</td>\n",
       "      <td>0.28081</td>\n",
       "      <td>0.21935</td>\n",
       "      <td>0.588840</td>\n",
       "      <td>0.51701</td>\n",
       "      <td>0.67580</td>\n",
       "      <td>0.87309</td>\n",
       "      <td>0.52582</td>\n",
       "    </tr>\n",
       "    <tr>\n",
       "      <th>3</th>\n",
       "      <td>205</td>\n",
       "      <td>rsfMRI_HB6</td>\n",
       "      <td>Condition001.mat</td>\n",
       "      <td>rest</td>\n",
       "      <td>0.39404</td>\n",
       "      <td>0.88638</td>\n",
       "      <td>0.519380</td>\n",
       "      <td>0.50584</td>\n",
       "      <td>0.28219</td>\n",
       "      <td>1.08130</td>\n",
       "      <td>0.61152</td>\n",
       "    </tr>\n",
       "    <tr>\n",
       "      <th>4</th>\n",
       "      <td>207</td>\n",
       "      <td>rsfMRI_HB6</td>\n",
       "      <td>Condition001.mat</td>\n",
       "      <td>rest</td>\n",
       "      <td>0.44657</td>\n",
       "      <td>0.32933</td>\n",
       "      <td>0.272310</td>\n",
       "      <td>0.47209</td>\n",
       "      <td>0.38130</td>\n",
       "      <td>0.68107</td>\n",
       "      <td>0.43045</td>\n",
       "    </tr>\n",
       "  </tbody>\n",
       "</table>\n",
       "</div>"
      ],
      "text/plain": [
       "   Participant_ID Sequence_name Condition_matfile Condition  Medial-Occipital  \\\n",
       "0             200    rsfMRI_HB6  Condition001.mat      rest           0.18123   \n",
       "1             201    rsfMRI_HB6  Condition001.mat      rest           0.44015   \n",
       "2             202    rsfMRI_HB6  Condition001.mat      rest           0.28081   \n",
       "3             205    rsfMRI_HB6  Condition001.mat      rest           0.39404   \n",
       "4             207    rsfMRI_HB6  Condition001.mat      rest           0.44657   \n",
       "\n",
       "   Medial-Lateral(L)  Medial-Lateral(R)  Occipital-Lateral(L)  \\\n",
       "0            0.22104           0.032202               0.68723   \n",
       "1            0.56515           0.427590               0.84800   \n",
       "2            0.21935           0.588840               0.51701   \n",
       "3            0.88638           0.519380               0.50584   \n",
       "4            0.32933           0.272310               0.47209   \n",
       "\n",
       "   Occipital-Lateral(R)  Lateral(L)-Lateral(R)  Averaged_CC  \n",
       "0               0.47970                0.97918      0.43010  \n",
       "1               0.88916                1.21180      0.73031  \n",
       "2               0.67580                0.87309      0.52582  \n",
       "3               0.28219                1.08130      0.61152  \n",
       "4               0.38130                0.68107      0.43045  "
      ]
     },
     "execution_count": 6,
     "metadata": {},
     "output_type": "execute_result"
    }
   ],
   "source": [
    "# Visual\n",
    "visual_2021 = pd.read_excel('../data/Brain_networks/Network_CC/Visual_2021.xlsx')\n",
    "visual_2022 = pd.read_excel('../data/Brain_networks/Network_CC/Visual_2022.xlsx')\n",
    "visual_2023 = pd.read_excel('../data/Brain_networks/Network_CC/Visual_2023.xlsx')\n",
    "\n",
    "all_visual = pd.concat([visual_2021, visual_2022, visual_2023], ignore_index=True)\n",
    "all_visual.head()"
   ]
  },
  {
   "cell_type": "code",
   "execution_count": 7,
   "id": "da74eb55",
   "metadata": {},
   "outputs": [
    {
     "data": {
      "application/vnd.microsoft.datawrangler.viewer.v0+json": {
       "columns": [
        {
         "name": "index",
         "rawType": "int64",
         "type": "integer"
        },
        {
         "name": "Participant_ID",
         "rawType": "int64",
         "type": "integer"
        },
        {
         "name": "Condition",
         "rawType": "object",
         "type": "string"
        },
        {
         "name": "Medial-Occipital",
         "rawType": "float64",
         "type": "float"
        },
        {
         "name": "Medial-Lateral(L)",
         "rawType": "float64",
         "type": "float"
        },
        {
         "name": "Medial-Lateral(R)",
         "rawType": "float64",
         "type": "float"
        },
        {
         "name": "Occipital-Lateral(L)",
         "rawType": "float64",
         "type": "float"
        },
        {
         "name": "Occipital-Lateral(R)",
         "rawType": "float64",
         "type": "float"
        },
        {
         "name": "Lateral(L)-Lateral(R)",
         "rawType": "float64",
         "type": "float"
        },
        {
         "name": "Averaged_CC",
         "rawType": "float64",
         "type": "float"
        },
        {
         "name": "ADHD/NT",
         "rawType": "object",
         "type": "string"
        },
        {
         "name": "Gender",
         "rawType": "object",
         "type": "string"
        }
       ],
       "ref": "3af1ab46-bd61-4df5-90f6-abe57e39998e",
       "rows": [
        [
         "0",
         "200",
         "rest",
         "0.18123",
         "0.22104",
         "0.032202",
         "0.68723",
         "0.4797",
         "0.97918",
         "0.4301",
         "NT",
         "F"
        ],
        [
         "1",
         "201",
         "rest",
         "0.44015",
         "0.56515",
         "0.42759",
         "0.848",
         "0.88916",
         "1.2118",
         "0.73031",
         "ADHD",
         "F"
        ],
        [
         "2",
         "202",
         "rest",
         "0.28081",
         "0.21935",
         "0.58884",
         "0.51701",
         "0.6758",
         "0.87309",
         "0.52582",
         "NT",
         "F"
        ],
        [
         "3",
         "205",
         "rest",
         "0.39404",
         "0.88638",
         "0.51938",
         "0.50584",
         "0.28219",
         "1.0813",
         "0.61152",
         "NT",
         "F"
        ],
        [
         "4",
         "207",
         "rest",
         "0.44657",
         "0.32933",
         "0.27231",
         "0.47209",
         "0.3813",
         "0.68107",
         "0.43045",
         "NT",
         "F"
        ]
       ],
       "shape": {
        "columns": 11,
        "rows": 5
       }
      },
      "text/html": [
       "<div>\n",
       "<style scoped>\n",
       "    .dataframe tbody tr th:only-of-type {\n",
       "        vertical-align: middle;\n",
       "    }\n",
       "\n",
       "    .dataframe tbody tr th {\n",
       "        vertical-align: top;\n",
       "    }\n",
       "\n",
       "    .dataframe thead th {\n",
       "        text-align: right;\n",
       "    }\n",
       "</style>\n",
       "<table border=\"1\" class=\"dataframe\">\n",
       "  <thead>\n",
       "    <tr style=\"text-align: right;\">\n",
       "      <th></th>\n",
       "      <th>Participant_ID</th>\n",
       "      <th>Condition</th>\n",
       "      <th>Medial-Occipital</th>\n",
       "      <th>Medial-Lateral(L)</th>\n",
       "      <th>Medial-Lateral(R)</th>\n",
       "      <th>Occipital-Lateral(L)</th>\n",
       "      <th>Occipital-Lateral(R)</th>\n",
       "      <th>Lateral(L)-Lateral(R)</th>\n",
       "      <th>Averaged_CC</th>\n",
       "      <th>ADHD/NT</th>\n",
       "      <th>Gender</th>\n",
       "    </tr>\n",
       "  </thead>\n",
       "  <tbody>\n",
       "    <tr>\n",
       "      <th>0</th>\n",
       "      <td>200</td>\n",
       "      <td>rest</td>\n",
       "      <td>0.18123</td>\n",
       "      <td>0.22104</td>\n",
       "      <td>0.032202</td>\n",
       "      <td>0.68723</td>\n",
       "      <td>0.47970</td>\n",
       "      <td>0.97918</td>\n",
       "      <td>0.43010</td>\n",
       "      <td>NT</td>\n",
       "      <td>F</td>\n",
       "    </tr>\n",
       "    <tr>\n",
       "      <th>1</th>\n",
       "      <td>201</td>\n",
       "      <td>rest</td>\n",
       "      <td>0.44015</td>\n",
       "      <td>0.56515</td>\n",
       "      <td>0.427590</td>\n",
       "      <td>0.84800</td>\n",
       "      <td>0.88916</td>\n",
       "      <td>1.21180</td>\n",
       "      <td>0.73031</td>\n",
       "      <td>ADHD</td>\n",
       "      <td>F</td>\n",
       "    </tr>\n",
       "    <tr>\n",
       "      <th>2</th>\n",
       "      <td>202</td>\n",
       "      <td>rest</td>\n",
       "      <td>0.28081</td>\n",
       "      <td>0.21935</td>\n",
       "      <td>0.588840</td>\n",
       "      <td>0.51701</td>\n",
       "      <td>0.67580</td>\n",
       "      <td>0.87309</td>\n",
       "      <td>0.52582</td>\n",
       "      <td>NT</td>\n",
       "      <td>F</td>\n",
       "    </tr>\n",
       "    <tr>\n",
       "      <th>3</th>\n",
       "      <td>205</td>\n",
       "      <td>rest</td>\n",
       "      <td>0.39404</td>\n",
       "      <td>0.88638</td>\n",
       "      <td>0.519380</td>\n",
       "      <td>0.50584</td>\n",
       "      <td>0.28219</td>\n",
       "      <td>1.08130</td>\n",
       "      <td>0.61152</td>\n",
       "      <td>NT</td>\n",
       "      <td>F</td>\n",
       "    </tr>\n",
       "    <tr>\n",
       "      <th>4</th>\n",
       "      <td>207</td>\n",
       "      <td>rest</td>\n",
       "      <td>0.44657</td>\n",
       "      <td>0.32933</td>\n",
       "      <td>0.272310</td>\n",
       "      <td>0.47209</td>\n",
       "      <td>0.38130</td>\n",
       "      <td>0.68107</td>\n",
       "      <td>0.43045</td>\n",
       "      <td>NT</td>\n",
       "      <td>F</td>\n",
       "    </tr>\n",
       "  </tbody>\n",
       "</table>\n",
       "</div>"
      ],
      "text/plain": [
       "   Participant_ID Condition  Medial-Occipital  Medial-Lateral(L)  \\\n",
       "0             200      rest           0.18123            0.22104   \n",
       "1             201      rest           0.44015            0.56515   \n",
       "2             202      rest           0.28081            0.21935   \n",
       "3             205      rest           0.39404            0.88638   \n",
       "4             207      rest           0.44657            0.32933   \n",
       "\n",
       "   Medial-Lateral(R)  Occipital-Lateral(L)  Occipital-Lateral(R)  \\\n",
       "0           0.032202               0.68723               0.47970   \n",
       "1           0.427590               0.84800               0.88916   \n",
       "2           0.588840               0.51701               0.67580   \n",
       "3           0.519380               0.50584               0.28219   \n",
       "4           0.272310               0.47209               0.38130   \n",
       "\n",
       "   Lateral(L)-Lateral(R)  Averaged_CC ADHD/NT Gender  \n",
       "0                0.97918      0.43010      NT      F  \n",
       "1                1.21180      0.73031    ADHD      F  \n",
       "2                0.87309      0.52582      NT      F  \n",
       "3                1.08130      0.61152      NT      F  \n",
       "4                0.68107      0.43045      NT      F  "
      ]
     },
     "execution_count": 7,
     "metadata": {},
     "output_type": "execute_result"
    }
   ],
   "source": [
    "visual_w_info = all_visual.merge(info, on='Participant_ID', how='inner')\n",
    "matrix_visual = visual_w_info.drop(columns=['Condition_matfile', 'Sequence_name'], inplace=False)\n",
    "matrix_visual.head()"
   ]
  },
  {
   "cell_type": "markdown",
   "id": "881036e0",
   "metadata": {},
   "source": [
    "### Salience"
   ]
  },
  {
   "cell_type": "code",
   "execution_count": 8,
   "id": "04f087ed",
   "metadata": {},
   "outputs": [
    {
     "data": {
      "application/vnd.microsoft.datawrangler.viewer.v0+json": {
       "columns": [
        {
         "name": "index",
         "rawType": "int64",
         "type": "integer"
        },
        {
         "name": "Participant_ID",
         "rawType": "int64",
         "type": "integer"
        },
        {
         "name": "Sequence_name",
         "rawType": "object",
         "type": "string"
        },
        {
         "name": "Condition_matfile",
         "rawType": "object",
         "type": "string"
        },
        {
         "name": "Condition",
         "rawType": "object",
         "type": "string"
        },
        {
         "name": "ACC-AInsula(L)",
         "rawType": "float64",
         "type": "float"
        },
        {
         "name": "ACC-AInsula(R)",
         "rawType": "float64",
         "type": "float"
        },
        {
         "name": "ACC-RPFC(L)",
         "rawType": "float64",
         "type": "float"
        },
        {
         "name": "ACC-RPFC(R)",
         "rawType": "float64",
         "type": "float"
        },
        {
         "name": "ACC-SMG(L)",
         "rawType": "float64",
         "type": "float"
        },
        {
         "name": "ACC-SMG(R)",
         "rawType": "float64",
         "type": "float"
        },
        {
         "name": "AInsula(L)-AInsula(R)",
         "rawType": "float64",
         "type": "float"
        },
        {
         "name": "AInsula(L)-RPFC(L)",
         "rawType": "float64",
         "type": "float"
        },
        {
         "name": "AInsula(L)-RPFC(R)",
         "rawType": "float64",
         "type": "float"
        },
        {
         "name": "AInsula(L)-SMG(L)",
         "rawType": "float64",
         "type": "float"
        },
        {
         "name": "AInsula(L)-SMG(R)",
         "rawType": "float64",
         "type": "float"
        },
        {
         "name": "AInsula(R)-RPFC(L)",
         "rawType": "float64",
         "type": "float"
        },
        {
         "name": "AInsula(R)-RPFC(R)",
         "rawType": "float64",
         "type": "float"
        },
        {
         "name": "AInsula(R)-SMG(L)",
         "rawType": "float64",
         "type": "float"
        },
        {
         "name": "AInsula(R)-SMG(R)",
         "rawType": "float64",
         "type": "float"
        },
        {
         "name": "RPFC(L)-RPFC(R)",
         "rawType": "float64",
         "type": "float"
        },
        {
         "name": "RPFC(L)-SMG(L)",
         "rawType": "float64",
         "type": "float"
        },
        {
         "name": "RPFC(L)-SMG(R)",
         "rawType": "float64",
         "type": "float"
        },
        {
         "name": "RPFC(R)-SMG(L)",
         "rawType": "float64",
         "type": "float"
        },
        {
         "name": "RPFC(R)-SMG(R)",
         "rawType": "float64",
         "type": "float"
        },
        {
         "name": "SMG(L)-SMG(R)",
         "rawType": "float64",
         "type": "float"
        },
        {
         "name": "Averaged_CC",
         "rawType": "float64",
         "type": "float"
        }
       ],
       "ref": "81c301d7-4ebb-432e-a4c0-6d700860269c",
       "rows": [
        [
         "0",
         "200",
         "rsfMRI_HB6",
         "Condition001.mat",
         "rest",
         "0.38244",
         "0.42946",
         "0.47293",
         "0.68623",
         "0.47652",
         "0.14783",
         "0.40015",
         "0.63142",
         "0.16855",
         "0.18318",
         "0.14423",
         "0.14561",
         "0.24826",
         "0.40205",
         "0.16082",
         "0.51811",
         "0.25721",
         "0.083836",
         "0.32207",
         "0.010654",
         "0.96934",
         "0.3448"
        ],
        [
         "1",
         "201",
         "rsfMRI_HB6",
         "Condition001.mat",
         "rest",
         "0.26701",
         "0.30673",
         "0.26035",
         "0.47045",
         "0.036738",
         "0.29623",
         "0.59892",
         "0.81091",
         "0.62268",
         "0.69481",
         "0.90887",
         "0.36905",
         "0.4424",
         "0.13552",
         "0.71314",
         "0.79054",
         "0.55826",
         "0.60852",
         "0.21384",
         "0.58124",
         "0.79743",
         "0.49922"
        ],
        [
         "2",
         "202",
         "rsfMRI_HB6",
         "Condition001.mat",
         "rest",
         "0.39955",
         "0.76758",
         "0.18989",
         "0.30054",
         "0.33014",
         "0.0646",
         "0.22255",
         "0.55078",
         "0.07021",
         "0.37311",
         "-0.039983",
         "0.28036",
         "0.32921",
         "0.48753",
         "0.26006",
         "0.42888",
         "0.71127",
         "0.33762",
         "0.58176",
         "0.95569",
         "0.62045",
         "0.39151"
        ],
        [
         "3",
         "205",
         "rsfMRI_HB6",
         "Condition001.mat",
         "rest",
         "0.51393",
         "0.60648",
         "0.83598",
         "0.76121",
         "0.42954",
         "-0.027161",
         "0.41983",
         "0.29928",
         "0.29885",
         "0.20358",
         "-0.20107",
         "0.49416",
         "0.64889",
         "0.65663",
         "0.22283",
         "1.2365",
         "0.55846",
         "0.1853",
         "0.59952",
         "0.32887",
         "0.55385",
         "0.45836"
        ],
        [
         "4",
         "207",
         "rsfMRI_HB6",
         "Condition001.mat",
         "rest",
         "0.50032",
         "0.54461",
         "0.35094",
         "0.37688",
         "0.28651",
         "0.24603",
         "0.63985",
         "0.3283",
         "-0.030044",
         "0.41884",
         "0.27359",
         "0.16562",
         "0.32564",
         "0.47198",
         "0.62164",
         "0.44331",
         "0.75381",
         "0.44949",
         "0.38576",
         "0.59805",
         "0.79248",
         "0.42589"
        ]
       ],
       "shape": {
        "columns": 26,
        "rows": 5
       }
      },
      "text/html": [
       "<div>\n",
       "<style scoped>\n",
       "    .dataframe tbody tr th:only-of-type {\n",
       "        vertical-align: middle;\n",
       "    }\n",
       "\n",
       "    .dataframe tbody tr th {\n",
       "        vertical-align: top;\n",
       "    }\n",
       "\n",
       "    .dataframe thead th {\n",
       "        text-align: right;\n",
       "    }\n",
       "</style>\n",
       "<table border=\"1\" class=\"dataframe\">\n",
       "  <thead>\n",
       "    <tr style=\"text-align: right;\">\n",
       "      <th></th>\n",
       "      <th>Participant_ID</th>\n",
       "      <th>Sequence_name</th>\n",
       "      <th>Condition_matfile</th>\n",
       "      <th>Condition</th>\n",
       "      <th>ACC-AInsula(L)</th>\n",
       "      <th>ACC-AInsula(R)</th>\n",
       "      <th>ACC-RPFC(L)</th>\n",
       "      <th>ACC-RPFC(R)</th>\n",
       "      <th>ACC-SMG(L)</th>\n",
       "      <th>ACC-SMG(R)</th>\n",
       "      <th>...</th>\n",
       "      <th>AInsula(R)-RPFC(R)</th>\n",
       "      <th>AInsula(R)-SMG(L)</th>\n",
       "      <th>AInsula(R)-SMG(R)</th>\n",
       "      <th>RPFC(L)-RPFC(R)</th>\n",
       "      <th>RPFC(L)-SMG(L)</th>\n",
       "      <th>RPFC(L)-SMG(R)</th>\n",
       "      <th>RPFC(R)-SMG(L)</th>\n",
       "      <th>RPFC(R)-SMG(R)</th>\n",
       "      <th>SMG(L)-SMG(R)</th>\n",
       "      <th>Averaged_CC</th>\n",
       "    </tr>\n",
       "  </thead>\n",
       "  <tbody>\n",
       "    <tr>\n",
       "      <th>0</th>\n",
       "      <td>200</td>\n",
       "      <td>rsfMRI_HB6</td>\n",
       "      <td>Condition001.mat</td>\n",
       "      <td>rest</td>\n",
       "      <td>0.38244</td>\n",
       "      <td>0.42946</td>\n",
       "      <td>0.47293</td>\n",
       "      <td>0.68623</td>\n",
       "      <td>0.476520</td>\n",
       "      <td>0.147830</td>\n",
       "      <td>...</td>\n",
       "      <td>0.24826</td>\n",
       "      <td>0.40205</td>\n",
       "      <td>0.16082</td>\n",
       "      <td>0.51811</td>\n",
       "      <td>0.25721</td>\n",
       "      <td>0.083836</td>\n",
       "      <td>0.32207</td>\n",
       "      <td>0.010654</td>\n",
       "      <td>0.96934</td>\n",
       "      <td>0.34480</td>\n",
       "    </tr>\n",
       "    <tr>\n",
       "      <th>1</th>\n",
       "      <td>201</td>\n",
       "      <td>rsfMRI_HB6</td>\n",
       "      <td>Condition001.mat</td>\n",
       "      <td>rest</td>\n",
       "      <td>0.26701</td>\n",
       "      <td>0.30673</td>\n",
       "      <td>0.26035</td>\n",
       "      <td>0.47045</td>\n",
       "      <td>0.036738</td>\n",
       "      <td>0.296230</td>\n",
       "      <td>...</td>\n",
       "      <td>0.44240</td>\n",
       "      <td>0.13552</td>\n",
       "      <td>0.71314</td>\n",
       "      <td>0.79054</td>\n",
       "      <td>0.55826</td>\n",
       "      <td>0.608520</td>\n",
       "      <td>0.21384</td>\n",
       "      <td>0.581240</td>\n",
       "      <td>0.79743</td>\n",
       "      <td>0.49922</td>\n",
       "    </tr>\n",
       "    <tr>\n",
       "      <th>2</th>\n",
       "      <td>202</td>\n",
       "      <td>rsfMRI_HB6</td>\n",
       "      <td>Condition001.mat</td>\n",
       "      <td>rest</td>\n",
       "      <td>0.39955</td>\n",
       "      <td>0.76758</td>\n",
       "      <td>0.18989</td>\n",
       "      <td>0.30054</td>\n",
       "      <td>0.330140</td>\n",
       "      <td>0.064600</td>\n",
       "      <td>...</td>\n",
       "      <td>0.32921</td>\n",
       "      <td>0.48753</td>\n",
       "      <td>0.26006</td>\n",
       "      <td>0.42888</td>\n",
       "      <td>0.71127</td>\n",
       "      <td>0.337620</td>\n",
       "      <td>0.58176</td>\n",
       "      <td>0.955690</td>\n",
       "      <td>0.62045</td>\n",
       "      <td>0.39151</td>\n",
       "    </tr>\n",
       "    <tr>\n",
       "      <th>3</th>\n",
       "      <td>205</td>\n",
       "      <td>rsfMRI_HB6</td>\n",
       "      <td>Condition001.mat</td>\n",
       "      <td>rest</td>\n",
       "      <td>0.51393</td>\n",
       "      <td>0.60648</td>\n",
       "      <td>0.83598</td>\n",
       "      <td>0.76121</td>\n",
       "      <td>0.429540</td>\n",
       "      <td>-0.027161</td>\n",
       "      <td>...</td>\n",
       "      <td>0.64889</td>\n",
       "      <td>0.65663</td>\n",
       "      <td>0.22283</td>\n",
       "      <td>1.23650</td>\n",
       "      <td>0.55846</td>\n",
       "      <td>0.185300</td>\n",
       "      <td>0.59952</td>\n",
       "      <td>0.328870</td>\n",
       "      <td>0.55385</td>\n",
       "      <td>0.45836</td>\n",
       "    </tr>\n",
       "    <tr>\n",
       "      <th>4</th>\n",
       "      <td>207</td>\n",
       "      <td>rsfMRI_HB6</td>\n",
       "      <td>Condition001.mat</td>\n",
       "      <td>rest</td>\n",
       "      <td>0.50032</td>\n",
       "      <td>0.54461</td>\n",
       "      <td>0.35094</td>\n",
       "      <td>0.37688</td>\n",
       "      <td>0.286510</td>\n",
       "      <td>0.246030</td>\n",
       "      <td>...</td>\n",
       "      <td>0.32564</td>\n",
       "      <td>0.47198</td>\n",
       "      <td>0.62164</td>\n",
       "      <td>0.44331</td>\n",
       "      <td>0.75381</td>\n",
       "      <td>0.449490</td>\n",
       "      <td>0.38576</td>\n",
       "      <td>0.598050</td>\n",
       "      <td>0.79248</td>\n",
       "      <td>0.42589</td>\n",
       "    </tr>\n",
       "  </tbody>\n",
       "</table>\n",
       "<p>5 rows × 26 columns</p>\n",
       "</div>"
      ],
      "text/plain": [
       "   Participant_ID Sequence_name Condition_matfile Condition  ACC-AInsula(L)  \\\n",
       "0             200    rsfMRI_HB6  Condition001.mat      rest         0.38244   \n",
       "1             201    rsfMRI_HB6  Condition001.mat      rest         0.26701   \n",
       "2             202    rsfMRI_HB6  Condition001.mat      rest         0.39955   \n",
       "3             205    rsfMRI_HB6  Condition001.mat      rest         0.51393   \n",
       "4             207    rsfMRI_HB6  Condition001.mat      rest         0.50032   \n",
       "\n",
       "   ACC-AInsula(R)  ACC-RPFC(L)  ACC-RPFC(R)  ACC-SMG(L)  ACC-SMG(R)  ...  \\\n",
       "0         0.42946      0.47293      0.68623    0.476520    0.147830  ...   \n",
       "1         0.30673      0.26035      0.47045    0.036738    0.296230  ...   \n",
       "2         0.76758      0.18989      0.30054    0.330140    0.064600  ...   \n",
       "3         0.60648      0.83598      0.76121    0.429540   -0.027161  ...   \n",
       "4         0.54461      0.35094      0.37688    0.286510    0.246030  ...   \n",
       "\n",
       "   AInsula(R)-RPFC(R)  AInsula(R)-SMG(L)  AInsula(R)-SMG(R)  RPFC(L)-RPFC(R)  \\\n",
       "0             0.24826            0.40205            0.16082          0.51811   \n",
       "1             0.44240            0.13552            0.71314          0.79054   \n",
       "2             0.32921            0.48753            0.26006          0.42888   \n",
       "3             0.64889            0.65663            0.22283          1.23650   \n",
       "4             0.32564            0.47198            0.62164          0.44331   \n",
       "\n",
       "   RPFC(L)-SMG(L)  RPFC(L)-SMG(R)  RPFC(R)-SMG(L)  RPFC(R)-SMG(R)  \\\n",
       "0         0.25721        0.083836         0.32207        0.010654   \n",
       "1         0.55826        0.608520         0.21384        0.581240   \n",
       "2         0.71127        0.337620         0.58176        0.955690   \n",
       "3         0.55846        0.185300         0.59952        0.328870   \n",
       "4         0.75381        0.449490         0.38576        0.598050   \n",
       "\n",
       "   SMG(L)-SMG(R)  Averaged_CC  \n",
       "0        0.96934      0.34480  \n",
       "1        0.79743      0.49922  \n",
       "2        0.62045      0.39151  \n",
       "3        0.55385      0.45836  \n",
       "4        0.79248      0.42589  \n",
       "\n",
       "[5 rows x 26 columns]"
      ]
     },
     "execution_count": 8,
     "metadata": {},
     "output_type": "execute_result"
    }
   ],
   "source": [
    "# Salience\n",
    "salience_2021 = pd.read_excel('../data/Brain_networks/Network_CC/Salience_2021.xlsx')\n",
    "salience_2022 = pd.read_excel('../data/Brain_networks/Network_CC/Salience_2022.xlsx')\n",
    "salience_2023 = pd.read_excel('../data/Brain_networks/Network_CC/Salience_2023.xlsx')\n",
    "\n",
    "all_salience = pd.concat([salience_2021, salience_2022, salience_2023], ignore_index=True)\n",
    "all_salience.head()"
   ]
  },
  {
   "cell_type": "code",
   "execution_count": 9,
   "id": "ba14cd7a",
   "metadata": {},
   "outputs": [
    {
     "data": {
      "application/vnd.microsoft.datawrangler.viewer.v0+json": {
       "columns": [
        {
         "name": "index",
         "rawType": "int64",
         "type": "integer"
        },
        {
         "name": "Participant_ID",
         "rawType": "int64",
         "type": "integer"
        },
        {
         "name": "Condition",
         "rawType": "object",
         "type": "string"
        },
        {
         "name": "ACC-AInsula(L)",
         "rawType": "float64",
         "type": "float"
        },
        {
         "name": "ACC-AInsula(R)",
         "rawType": "float64",
         "type": "float"
        },
        {
         "name": "ACC-RPFC(L)",
         "rawType": "float64",
         "type": "float"
        },
        {
         "name": "ACC-RPFC(R)",
         "rawType": "float64",
         "type": "float"
        },
        {
         "name": "ACC-SMG(L)",
         "rawType": "float64",
         "type": "float"
        },
        {
         "name": "ACC-SMG(R)",
         "rawType": "float64",
         "type": "float"
        },
        {
         "name": "AInsula(L)-AInsula(R)",
         "rawType": "float64",
         "type": "float"
        },
        {
         "name": "AInsula(L)-RPFC(L)",
         "rawType": "float64",
         "type": "float"
        },
        {
         "name": "AInsula(L)-RPFC(R)",
         "rawType": "float64",
         "type": "float"
        },
        {
         "name": "AInsula(L)-SMG(L)",
         "rawType": "float64",
         "type": "float"
        },
        {
         "name": "AInsula(L)-SMG(R)",
         "rawType": "float64",
         "type": "float"
        },
        {
         "name": "AInsula(R)-RPFC(L)",
         "rawType": "float64",
         "type": "float"
        },
        {
         "name": "AInsula(R)-RPFC(R)",
         "rawType": "float64",
         "type": "float"
        },
        {
         "name": "AInsula(R)-SMG(L)",
         "rawType": "float64",
         "type": "float"
        },
        {
         "name": "AInsula(R)-SMG(R)",
         "rawType": "float64",
         "type": "float"
        },
        {
         "name": "RPFC(L)-RPFC(R)",
         "rawType": "float64",
         "type": "float"
        },
        {
         "name": "RPFC(L)-SMG(L)",
         "rawType": "float64",
         "type": "float"
        },
        {
         "name": "RPFC(L)-SMG(R)",
         "rawType": "float64",
         "type": "float"
        },
        {
         "name": "RPFC(R)-SMG(L)",
         "rawType": "float64",
         "type": "float"
        },
        {
         "name": "RPFC(R)-SMG(R)",
         "rawType": "float64",
         "type": "float"
        },
        {
         "name": "SMG(L)-SMG(R)",
         "rawType": "float64",
         "type": "float"
        },
        {
         "name": "Averaged_CC",
         "rawType": "float64",
         "type": "float"
        },
        {
         "name": "ADHD/NT",
         "rawType": "object",
         "type": "string"
        },
        {
         "name": "Gender",
         "rawType": "object",
         "type": "string"
        }
       ],
       "ref": "e971721c-8d54-4440-b3d5-4ae5ab8799ce",
       "rows": [
        [
         "0",
         "200",
         "rest",
         "0.38244",
         "0.42946",
         "0.47293",
         "0.68623",
         "0.47652",
         "0.14783",
         "0.40015",
         "0.63142",
         "0.16855",
         "0.18318",
         "0.14423",
         "0.14561",
         "0.24826",
         "0.40205",
         "0.16082",
         "0.51811",
         "0.25721",
         "0.083836",
         "0.32207",
         "0.010654",
         "0.96934",
         "0.3448",
         "NT",
         "F"
        ],
        [
         "1",
         "201",
         "rest",
         "0.26701",
         "0.30673",
         "0.26035",
         "0.47045",
         "0.036738",
         "0.29623",
         "0.59892",
         "0.81091",
         "0.62268",
         "0.69481",
         "0.90887",
         "0.36905",
         "0.4424",
         "0.13552",
         "0.71314",
         "0.79054",
         "0.55826",
         "0.60852",
         "0.21384",
         "0.58124",
         "0.79743",
         "0.49922",
         "ADHD",
         "F"
        ],
        [
         "2",
         "202",
         "rest",
         "0.39955",
         "0.76758",
         "0.18989",
         "0.30054",
         "0.33014",
         "0.0646",
         "0.22255",
         "0.55078",
         "0.07021",
         "0.37311",
         "-0.039983",
         "0.28036",
         "0.32921",
         "0.48753",
         "0.26006",
         "0.42888",
         "0.71127",
         "0.33762",
         "0.58176",
         "0.95569",
         "0.62045",
         "0.39151",
         "NT",
         "F"
        ],
        [
         "3",
         "205",
         "rest",
         "0.51393",
         "0.60648",
         "0.83598",
         "0.76121",
         "0.42954",
         "-0.027161",
         "0.41983",
         "0.29928",
         "0.29885",
         "0.20358",
         "-0.20107",
         "0.49416",
         "0.64889",
         "0.65663",
         "0.22283",
         "1.2365",
         "0.55846",
         "0.1853",
         "0.59952",
         "0.32887",
         "0.55385",
         "0.45836",
         "NT",
         "F"
        ],
        [
         "4",
         "207",
         "rest",
         "0.50032",
         "0.54461",
         "0.35094",
         "0.37688",
         "0.28651",
         "0.24603",
         "0.63985",
         "0.3283",
         "-0.030044",
         "0.41884",
         "0.27359",
         "0.16562",
         "0.32564",
         "0.47198",
         "0.62164",
         "0.44331",
         "0.75381",
         "0.44949",
         "0.38576",
         "0.59805",
         "0.79248",
         "0.42589",
         "NT",
         "F"
        ]
       ],
       "shape": {
        "columns": 26,
        "rows": 5
       }
      },
      "text/html": [
       "<div>\n",
       "<style scoped>\n",
       "    .dataframe tbody tr th:only-of-type {\n",
       "        vertical-align: middle;\n",
       "    }\n",
       "\n",
       "    .dataframe tbody tr th {\n",
       "        vertical-align: top;\n",
       "    }\n",
       "\n",
       "    .dataframe thead th {\n",
       "        text-align: right;\n",
       "    }\n",
       "</style>\n",
       "<table border=\"1\" class=\"dataframe\">\n",
       "  <thead>\n",
       "    <tr style=\"text-align: right;\">\n",
       "      <th></th>\n",
       "      <th>Participant_ID</th>\n",
       "      <th>Condition</th>\n",
       "      <th>ACC-AInsula(L)</th>\n",
       "      <th>ACC-AInsula(R)</th>\n",
       "      <th>ACC-RPFC(L)</th>\n",
       "      <th>ACC-RPFC(R)</th>\n",
       "      <th>ACC-SMG(L)</th>\n",
       "      <th>ACC-SMG(R)</th>\n",
       "      <th>AInsula(L)-AInsula(R)</th>\n",
       "      <th>AInsula(L)-RPFC(L)</th>\n",
       "      <th>...</th>\n",
       "      <th>AInsula(R)-SMG(R)</th>\n",
       "      <th>RPFC(L)-RPFC(R)</th>\n",
       "      <th>RPFC(L)-SMG(L)</th>\n",
       "      <th>RPFC(L)-SMG(R)</th>\n",
       "      <th>RPFC(R)-SMG(L)</th>\n",
       "      <th>RPFC(R)-SMG(R)</th>\n",
       "      <th>SMG(L)-SMG(R)</th>\n",
       "      <th>Averaged_CC</th>\n",
       "      <th>ADHD/NT</th>\n",
       "      <th>Gender</th>\n",
       "    </tr>\n",
       "  </thead>\n",
       "  <tbody>\n",
       "    <tr>\n",
       "      <th>0</th>\n",
       "      <td>200</td>\n",
       "      <td>rest</td>\n",
       "      <td>0.38244</td>\n",
       "      <td>0.42946</td>\n",
       "      <td>0.47293</td>\n",
       "      <td>0.68623</td>\n",
       "      <td>0.476520</td>\n",
       "      <td>0.147830</td>\n",
       "      <td>0.40015</td>\n",
       "      <td>0.63142</td>\n",
       "      <td>...</td>\n",
       "      <td>0.16082</td>\n",
       "      <td>0.51811</td>\n",
       "      <td>0.25721</td>\n",
       "      <td>0.083836</td>\n",
       "      <td>0.32207</td>\n",
       "      <td>0.010654</td>\n",
       "      <td>0.96934</td>\n",
       "      <td>0.34480</td>\n",
       "      <td>NT</td>\n",
       "      <td>F</td>\n",
       "    </tr>\n",
       "    <tr>\n",
       "      <th>1</th>\n",
       "      <td>201</td>\n",
       "      <td>rest</td>\n",
       "      <td>0.26701</td>\n",
       "      <td>0.30673</td>\n",
       "      <td>0.26035</td>\n",
       "      <td>0.47045</td>\n",
       "      <td>0.036738</td>\n",
       "      <td>0.296230</td>\n",
       "      <td>0.59892</td>\n",
       "      <td>0.81091</td>\n",
       "      <td>...</td>\n",
       "      <td>0.71314</td>\n",
       "      <td>0.79054</td>\n",
       "      <td>0.55826</td>\n",
       "      <td>0.608520</td>\n",
       "      <td>0.21384</td>\n",
       "      <td>0.581240</td>\n",
       "      <td>0.79743</td>\n",
       "      <td>0.49922</td>\n",
       "      <td>ADHD</td>\n",
       "      <td>F</td>\n",
       "    </tr>\n",
       "    <tr>\n",
       "      <th>2</th>\n",
       "      <td>202</td>\n",
       "      <td>rest</td>\n",
       "      <td>0.39955</td>\n",
       "      <td>0.76758</td>\n",
       "      <td>0.18989</td>\n",
       "      <td>0.30054</td>\n",
       "      <td>0.330140</td>\n",
       "      <td>0.064600</td>\n",
       "      <td>0.22255</td>\n",
       "      <td>0.55078</td>\n",
       "      <td>...</td>\n",
       "      <td>0.26006</td>\n",
       "      <td>0.42888</td>\n",
       "      <td>0.71127</td>\n",
       "      <td>0.337620</td>\n",
       "      <td>0.58176</td>\n",
       "      <td>0.955690</td>\n",
       "      <td>0.62045</td>\n",
       "      <td>0.39151</td>\n",
       "      <td>NT</td>\n",
       "      <td>F</td>\n",
       "    </tr>\n",
       "    <tr>\n",
       "      <th>3</th>\n",
       "      <td>205</td>\n",
       "      <td>rest</td>\n",
       "      <td>0.51393</td>\n",
       "      <td>0.60648</td>\n",
       "      <td>0.83598</td>\n",
       "      <td>0.76121</td>\n",
       "      <td>0.429540</td>\n",
       "      <td>-0.027161</td>\n",
       "      <td>0.41983</td>\n",
       "      <td>0.29928</td>\n",
       "      <td>...</td>\n",
       "      <td>0.22283</td>\n",
       "      <td>1.23650</td>\n",
       "      <td>0.55846</td>\n",
       "      <td>0.185300</td>\n",
       "      <td>0.59952</td>\n",
       "      <td>0.328870</td>\n",
       "      <td>0.55385</td>\n",
       "      <td>0.45836</td>\n",
       "      <td>NT</td>\n",
       "      <td>F</td>\n",
       "    </tr>\n",
       "    <tr>\n",
       "      <th>4</th>\n",
       "      <td>207</td>\n",
       "      <td>rest</td>\n",
       "      <td>0.50032</td>\n",
       "      <td>0.54461</td>\n",
       "      <td>0.35094</td>\n",
       "      <td>0.37688</td>\n",
       "      <td>0.286510</td>\n",
       "      <td>0.246030</td>\n",
       "      <td>0.63985</td>\n",
       "      <td>0.32830</td>\n",
       "      <td>...</td>\n",
       "      <td>0.62164</td>\n",
       "      <td>0.44331</td>\n",
       "      <td>0.75381</td>\n",
       "      <td>0.449490</td>\n",
       "      <td>0.38576</td>\n",
       "      <td>0.598050</td>\n",
       "      <td>0.79248</td>\n",
       "      <td>0.42589</td>\n",
       "      <td>NT</td>\n",
       "      <td>F</td>\n",
       "    </tr>\n",
       "  </tbody>\n",
       "</table>\n",
       "<p>5 rows × 26 columns</p>\n",
       "</div>"
      ],
      "text/plain": [
       "   Participant_ID Condition  ACC-AInsula(L)  ACC-AInsula(R)  ACC-RPFC(L)  \\\n",
       "0             200      rest         0.38244         0.42946      0.47293   \n",
       "1             201      rest         0.26701         0.30673      0.26035   \n",
       "2             202      rest         0.39955         0.76758      0.18989   \n",
       "3             205      rest         0.51393         0.60648      0.83598   \n",
       "4             207      rest         0.50032         0.54461      0.35094   \n",
       "\n",
       "   ACC-RPFC(R)  ACC-SMG(L)  ACC-SMG(R)  AInsula(L)-AInsula(R)  \\\n",
       "0      0.68623    0.476520    0.147830                0.40015   \n",
       "1      0.47045    0.036738    0.296230                0.59892   \n",
       "2      0.30054    0.330140    0.064600                0.22255   \n",
       "3      0.76121    0.429540   -0.027161                0.41983   \n",
       "4      0.37688    0.286510    0.246030                0.63985   \n",
       "\n",
       "   AInsula(L)-RPFC(L)  ...  AInsula(R)-SMG(R)  RPFC(L)-RPFC(R)  \\\n",
       "0             0.63142  ...            0.16082          0.51811   \n",
       "1             0.81091  ...            0.71314          0.79054   \n",
       "2             0.55078  ...            0.26006          0.42888   \n",
       "3             0.29928  ...            0.22283          1.23650   \n",
       "4             0.32830  ...            0.62164          0.44331   \n",
       "\n",
       "   RPFC(L)-SMG(L)  RPFC(L)-SMG(R)  RPFC(R)-SMG(L)  RPFC(R)-SMG(R)  \\\n",
       "0         0.25721        0.083836         0.32207        0.010654   \n",
       "1         0.55826        0.608520         0.21384        0.581240   \n",
       "2         0.71127        0.337620         0.58176        0.955690   \n",
       "3         0.55846        0.185300         0.59952        0.328870   \n",
       "4         0.75381        0.449490         0.38576        0.598050   \n",
       "\n",
       "   SMG(L)-SMG(R)  Averaged_CC  ADHD/NT  Gender  \n",
       "0        0.96934      0.34480       NT       F  \n",
       "1        0.79743      0.49922     ADHD       F  \n",
       "2        0.62045      0.39151       NT       F  \n",
       "3        0.55385      0.45836       NT       F  \n",
       "4        0.79248      0.42589       NT       F  \n",
       "\n",
       "[5 rows x 26 columns]"
      ]
     },
     "execution_count": 9,
     "metadata": {},
     "output_type": "execute_result"
    }
   ],
   "source": [
    "salience_w_info = all_salience.merge(info, on='Participant_ID', how='inner')\n",
    "matrix_salience = salience_w_info.drop(columns=['Condition_matfile', 'Sequence_name'], inplace=False)\n",
    "matrix_salience.head()"
   ]
  },
  {
   "cell_type": "markdown",
   "id": "e5443467",
   "metadata": {},
   "source": [
    "### FP"
   ]
  },
  {
   "cell_type": "code",
   "execution_count": 10,
   "id": "8b94f387",
   "metadata": {},
   "outputs": [
    {
     "data": {
      "application/vnd.microsoft.datawrangler.viewer.v0+json": {
       "columns": [
        {
         "name": "index",
         "rawType": "int64",
         "type": "integer"
        },
        {
         "name": "Participant_ID",
         "rawType": "int64",
         "type": "integer"
        },
        {
         "name": "Sequence_name",
         "rawType": "object",
         "type": "string"
        },
        {
         "name": "Condition_matfile",
         "rawType": "object",
         "type": "string"
        },
        {
         "name": "Condition",
         "rawType": "object",
         "type": "string"
        },
        {
         "name": "LPFC(L)-PPC(L)",
         "rawType": "float64",
         "type": "float"
        },
        {
         "name": "LPFC(L)-LPFC(R)",
         "rawType": "float64",
         "type": "float"
        },
        {
         "name": "LPFC(L)-PPC(R)",
         "rawType": "float64",
         "type": "float"
        },
        {
         "name": "PPC(L)-LPFC(R)",
         "rawType": "float64",
         "type": "float"
        },
        {
         "name": "PPC(L)-PPC(R)",
         "rawType": "float64",
         "type": "float"
        },
        {
         "name": "LPFC(R)-PPC(R)",
         "rawType": "float64",
         "type": "float"
        },
        {
         "name": "Averaged_CC",
         "rawType": "float64",
         "type": "float"
        }
       ],
       "ref": "bfba0840-aae4-4877-9c82-b7f21846cb9d",
       "rows": [
        [
         "0",
         "200",
         "rsfMRI_HB6",
         "Condition001.mat",
         "rest",
         "0.74405",
         "0.31677",
         "0.07744",
         "0.4263",
         "0.42652",
         "0.98033",
         "0.49524"
        ],
        [
         "1",
         "201",
         "rsfMRI_HB6",
         "Condition001.mat",
         "rest",
         "0.80099",
         "0.17939",
         "0.3125",
         "0.07402",
         "0.6891",
         "0.61432",
         "0.44505"
        ],
        [
         "2",
         "202",
         "rsfMRI_HB6",
         "Condition001.mat",
         "rest",
         "1.2186",
         "0.74083",
         "0.52707",
         "0.73794",
         "0.64482",
         "1.0955",
         "0.82746"
        ],
        [
         "3",
         "205",
         "rsfMRI_HB6",
         "Condition001.mat",
         "rest",
         "0.65107",
         "0.79147",
         "0.15068",
         "0.82202",
         "0.68807",
         "0.5438",
         "0.60785"
        ],
        [
         "4",
         "207",
         "rsfMRI_HB6",
         "Condition001.mat",
         "rest",
         "0.75497",
         "0.39063",
         "0.45857",
         "0.73926",
         "0.70244",
         "1.0723",
         "0.68636"
        ]
       ],
       "shape": {
        "columns": 11,
        "rows": 5
       }
      },
      "text/html": [
       "<div>\n",
       "<style scoped>\n",
       "    .dataframe tbody tr th:only-of-type {\n",
       "        vertical-align: middle;\n",
       "    }\n",
       "\n",
       "    .dataframe tbody tr th {\n",
       "        vertical-align: top;\n",
       "    }\n",
       "\n",
       "    .dataframe thead th {\n",
       "        text-align: right;\n",
       "    }\n",
       "</style>\n",
       "<table border=\"1\" class=\"dataframe\">\n",
       "  <thead>\n",
       "    <tr style=\"text-align: right;\">\n",
       "      <th></th>\n",
       "      <th>Participant_ID</th>\n",
       "      <th>Sequence_name</th>\n",
       "      <th>Condition_matfile</th>\n",
       "      <th>Condition</th>\n",
       "      <th>LPFC(L)-PPC(L)</th>\n",
       "      <th>LPFC(L)-LPFC(R)</th>\n",
       "      <th>LPFC(L)-PPC(R)</th>\n",
       "      <th>PPC(L)-LPFC(R)</th>\n",
       "      <th>PPC(L)-PPC(R)</th>\n",
       "      <th>LPFC(R)-PPC(R)</th>\n",
       "      <th>Averaged_CC</th>\n",
       "    </tr>\n",
       "  </thead>\n",
       "  <tbody>\n",
       "    <tr>\n",
       "      <th>0</th>\n",
       "      <td>200</td>\n",
       "      <td>rsfMRI_HB6</td>\n",
       "      <td>Condition001.mat</td>\n",
       "      <td>rest</td>\n",
       "      <td>0.74405</td>\n",
       "      <td>0.31677</td>\n",
       "      <td>0.07744</td>\n",
       "      <td>0.42630</td>\n",
       "      <td>0.42652</td>\n",
       "      <td>0.98033</td>\n",
       "      <td>0.49524</td>\n",
       "    </tr>\n",
       "    <tr>\n",
       "      <th>1</th>\n",
       "      <td>201</td>\n",
       "      <td>rsfMRI_HB6</td>\n",
       "      <td>Condition001.mat</td>\n",
       "      <td>rest</td>\n",
       "      <td>0.80099</td>\n",
       "      <td>0.17939</td>\n",
       "      <td>0.31250</td>\n",
       "      <td>0.07402</td>\n",
       "      <td>0.68910</td>\n",
       "      <td>0.61432</td>\n",
       "      <td>0.44505</td>\n",
       "    </tr>\n",
       "    <tr>\n",
       "      <th>2</th>\n",
       "      <td>202</td>\n",
       "      <td>rsfMRI_HB6</td>\n",
       "      <td>Condition001.mat</td>\n",
       "      <td>rest</td>\n",
       "      <td>1.21860</td>\n",
       "      <td>0.74083</td>\n",
       "      <td>0.52707</td>\n",
       "      <td>0.73794</td>\n",
       "      <td>0.64482</td>\n",
       "      <td>1.09550</td>\n",
       "      <td>0.82746</td>\n",
       "    </tr>\n",
       "    <tr>\n",
       "      <th>3</th>\n",
       "      <td>205</td>\n",
       "      <td>rsfMRI_HB6</td>\n",
       "      <td>Condition001.mat</td>\n",
       "      <td>rest</td>\n",
       "      <td>0.65107</td>\n",
       "      <td>0.79147</td>\n",
       "      <td>0.15068</td>\n",
       "      <td>0.82202</td>\n",
       "      <td>0.68807</td>\n",
       "      <td>0.54380</td>\n",
       "      <td>0.60785</td>\n",
       "    </tr>\n",
       "    <tr>\n",
       "      <th>4</th>\n",
       "      <td>207</td>\n",
       "      <td>rsfMRI_HB6</td>\n",
       "      <td>Condition001.mat</td>\n",
       "      <td>rest</td>\n",
       "      <td>0.75497</td>\n",
       "      <td>0.39063</td>\n",
       "      <td>0.45857</td>\n",
       "      <td>0.73926</td>\n",
       "      <td>0.70244</td>\n",
       "      <td>1.07230</td>\n",
       "      <td>0.68636</td>\n",
       "    </tr>\n",
       "  </tbody>\n",
       "</table>\n",
       "</div>"
      ],
      "text/plain": [
       "   Participant_ID Sequence_name Condition_matfile Condition  LPFC(L)-PPC(L)  \\\n",
       "0             200    rsfMRI_HB6  Condition001.mat      rest         0.74405   \n",
       "1             201    rsfMRI_HB6  Condition001.mat      rest         0.80099   \n",
       "2             202    rsfMRI_HB6  Condition001.mat      rest         1.21860   \n",
       "3             205    rsfMRI_HB6  Condition001.mat      rest         0.65107   \n",
       "4             207    rsfMRI_HB6  Condition001.mat      rest         0.75497   \n",
       "\n",
       "   LPFC(L)-LPFC(R)  LPFC(L)-PPC(R)  PPC(L)-LPFC(R)  PPC(L)-PPC(R)  \\\n",
       "0          0.31677         0.07744         0.42630        0.42652   \n",
       "1          0.17939         0.31250         0.07402        0.68910   \n",
       "2          0.74083         0.52707         0.73794        0.64482   \n",
       "3          0.79147         0.15068         0.82202        0.68807   \n",
       "4          0.39063         0.45857         0.73926        0.70244   \n",
       "\n",
       "   LPFC(R)-PPC(R)  Averaged_CC  \n",
       "0         0.98033      0.49524  \n",
       "1         0.61432      0.44505  \n",
       "2         1.09550      0.82746  \n",
       "3         0.54380      0.60785  \n",
       "4         1.07230      0.68636  "
      ]
     },
     "execution_count": 10,
     "metadata": {},
     "output_type": "execute_result"
    }
   ],
   "source": [
    "# FrontoParietal\n",
    "fp_2021 = pd.read_excel('../data/Brain_networks/Network_CC/FP_2021.xlsx')\n",
    "fp_2022 = pd.read_excel('../data/Brain_networks/Network_CC/FP_2022.xlsx')\n",
    "fp_2023 = pd.read_excel('../data/Brain_networks/Network_CC/FP_2023.xlsx')\n",
    "\n",
    "all_fp = pd.concat([fp_2021, fp_2022, fp_2023], ignore_index=True)\n",
    "all_fp.head()"
   ]
  },
  {
   "cell_type": "code",
   "execution_count": 11,
   "id": "398da3d8",
   "metadata": {},
   "outputs": [
    {
     "data": {
      "application/vnd.microsoft.datawrangler.viewer.v0+json": {
       "columns": [
        {
         "name": "index",
         "rawType": "int64",
         "type": "integer"
        },
        {
         "name": "Participant_ID",
         "rawType": "int64",
         "type": "integer"
        },
        {
         "name": "Condition",
         "rawType": "object",
         "type": "string"
        },
        {
         "name": "LPFC(L)-PPC(L)",
         "rawType": "float64",
         "type": "float"
        },
        {
         "name": "LPFC(L)-LPFC(R)",
         "rawType": "float64",
         "type": "float"
        },
        {
         "name": "LPFC(L)-PPC(R)",
         "rawType": "float64",
         "type": "float"
        },
        {
         "name": "PPC(L)-LPFC(R)",
         "rawType": "float64",
         "type": "float"
        },
        {
         "name": "PPC(L)-PPC(R)",
         "rawType": "float64",
         "type": "float"
        },
        {
         "name": "LPFC(R)-PPC(R)",
         "rawType": "float64",
         "type": "float"
        },
        {
         "name": "Averaged_CC",
         "rawType": "float64",
         "type": "float"
        },
        {
         "name": "ADHD/NT",
         "rawType": "object",
         "type": "string"
        },
        {
         "name": "Gender",
         "rawType": "object",
         "type": "string"
        }
       ],
       "ref": "3d1952ed-4068-43a1-b03d-0b0d89ae7b97",
       "rows": [
        [
         "0",
         "200",
         "rest",
         "0.74405",
         "0.31677",
         "0.07744",
         "0.4263",
         "0.42652",
         "0.98033",
         "0.49524",
         "NT",
         "F"
        ],
        [
         "1",
         "201",
         "rest",
         "0.80099",
         "0.17939",
         "0.3125",
         "0.07402",
         "0.6891",
         "0.61432",
         "0.44505",
         "ADHD",
         "F"
        ],
        [
         "2",
         "202",
         "rest",
         "1.2186",
         "0.74083",
         "0.52707",
         "0.73794",
         "0.64482",
         "1.0955",
         "0.82746",
         "NT",
         "F"
        ],
        [
         "3",
         "205",
         "rest",
         "0.65107",
         "0.79147",
         "0.15068",
         "0.82202",
         "0.68807",
         "0.5438",
         "0.60785",
         "NT",
         "F"
        ],
        [
         "4",
         "207",
         "rest",
         "0.75497",
         "0.39063",
         "0.45857",
         "0.73926",
         "0.70244",
         "1.0723",
         "0.68636",
         "NT",
         "F"
        ]
       ],
       "shape": {
        "columns": 11,
        "rows": 5
       }
      },
      "text/html": [
       "<div>\n",
       "<style scoped>\n",
       "    .dataframe tbody tr th:only-of-type {\n",
       "        vertical-align: middle;\n",
       "    }\n",
       "\n",
       "    .dataframe tbody tr th {\n",
       "        vertical-align: top;\n",
       "    }\n",
       "\n",
       "    .dataframe thead th {\n",
       "        text-align: right;\n",
       "    }\n",
       "</style>\n",
       "<table border=\"1\" class=\"dataframe\">\n",
       "  <thead>\n",
       "    <tr style=\"text-align: right;\">\n",
       "      <th></th>\n",
       "      <th>Participant_ID</th>\n",
       "      <th>Condition</th>\n",
       "      <th>LPFC(L)-PPC(L)</th>\n",
       "      <th>LPFC(L)-LPFC(R)</th>\n",
       "      <th>LPFC(L)-PPC(R)</th>\n",
       "      <th>PPC(L)-LPFC(R)</th>\n",
       "      <th>PPC(L)-PPC(R)</th>\n",
       "      <th>LPFC(R)-PPC(R)</th>\n",
       "      <th>Averaged_CC</th>\n",
       "      <th>ADHD/NT</th>\n",
       "      <th>Gender</th>\n",
       "    </tr>\n",
       "  </thead>\n",
       "  <tbody>\n",
       "    <tr>\n",
       "      <th>0</th>\n",
       "      <td>200</td>\n",
       "      <td>rest</td>\n",
       "      <td>0.74405</td>\n",
       "      <td>0.31677</td>\n",
       "      <td>0.07744</td>\n",
       "      <td>0.42630</td>\n",
       "      <td>0.42652</td>\n",
       "      <td>0.98033</td>\n",
       "      <td>0.49524</td>\n",
       "      <td>NT</td>\n",
       "      <td>F</td>\n",
       "    </tr>\n",
       "    <tr>\n",
       "      <th>1</th>\n",
       "      <td>201</td>\n",
       "      <td>rest</td>\n",
       "      <td>0.80099</td>\n",
       "      <td>0.17939</td>\n",
       "      <td>0.31250</td>\n",
       "      <td>0.07402</td>\n",
       "      <td>0.68910</td>\n",
       "      <td>0.61432</td>\n",
       "      <td>0.44505</td>\n",
       "      <td>ADHD</td>\n",
       "      <td>F</td>\n",
       "    </tr>\n",
       "    <tr>\n",
       "      <th>2</th>\n",
       "      <td>202</td>\n",
       "      <td>rest</td>\n",
       "      <td>1.21860</td>\n",
       "      <td>0.74083</td>\n",
       "      <td>0.52707</td>\n",
       "      <td>0.73794</td>\n",
       "      <td>0.64482</td>\n",
       "      <td>1.09550</td>\n",
       "      <td>0.82746</td>\n",
       "      <td>NT</td>\n",
       "      <td>F</td>\n",
       "    </tr>\n",
       "    <tr>\n",
       "      <th>3</th>\n",
       "      <td>205</td>\n",
       "      <td>rest</td>\n",
       "      <td>0.65107</td>\n",
       "      <td>0.79147</td>\n",
       "      <td>0.15068</td>\n",
       "      <td>0.82202</td>\n",
       "      <td>0.68807</td>\n",
       "      <td>0.54380</td>\n",
       "      <td>0.60785</td>\n",
       "      <td>NT</td>\n",
       "      <td>F</td>\n",
       "    </tr>\n",
       "    <tr>\n",
       "      <th>4</th>\n",
       "      <td>207</td>\n",
       "      <td>rest</td>\n",
       "      <td>0.75497</td>\n",
       "      <td>0.39063</td>\n",
       "      <td>0.45857</td>\n",
       "      <td>0.73926</td>\n",
       "      <td>0.70244</td>\n",
       "      <td>1.07230</td>\n",
       "      <td>0.68636</td>\n",
       "      <td>NT</td>\n",
       "      <td>F</td>\n",
       "    </tr>\n",
       "  </tbody>\n",
       "</table>\n",
       "</div>"
      ],
      "text/plain": [
       "   Participant_ID Condition  LPFC(L)-PPC(L)  LPFC(L)-LPFC(R)  LPFC(L)-PPC(R)  \\\n",
       "0             200      rest         0.74405          0.31677         0.07744   \n",
       "1             201      rest         0.80099          0.17939         0.31250   \n",
       "2             202      rest         1.21860          0.74083         0.52707   \n",
       "3             205      rest         0.65107          0.79147         0.15068   \n",
       "4             207      rest         0.75497          0.39063         0.45857   \n",
       "\n",
       "   PPC(L)-LPFC(R)  PPC(L)-PPC(R)  LPFC(R)-PPC(R)  Averaged_CC ADHD/NT Gender  \n",
       "0         0.42630        0.42652         0.98033      0.49524      NT      F  \n",
       "1         0.07402        0.68910         0.61432      0.44505    ADHD      F  \n",
       "2         0.73794        0.64482         1.09550      0.82746      NT      F  \n",
       "3         0.82202        0.68807         0.54380      0.60785      NT      F  \n",
       "4         0.73926        0.70244         1.07230      0.68636      NT      F  "
      ]
     },
     "execution_count": 11,
     "metadata": {},
     "output_type": "execute_result"
    }
   ],
   "source": [
    "fp_w_info = all_fp.merge(info, on='Participant_ID', how='inner')\n",
    "matrix_fp = fp_w_info.drop(columns=['Condition_matfile', 'Sequence_name'], inplace=False)\n",
    "matrix_fp.head()"
   ]
  },
  {
   "cell_type": "markdown",
   "id": "279ad674",
   "metadata": {},
   "source": [
    "## Feature extraction"
   ]
  },
  {
   "cell_type": "code",
   "execution_count": 14,
   "id": "f32c5adf",
   "metadata": {},
   "outputs": [],
   "source": [
    "X_visual = matrix_visual[visual_features]\n",
    "X_salience = matrix_salience[salience_features]\n",
    "X_fp = matrix_fp[fp_features]"
   ]
  },
  {
   "cell_type": "code",
   "execution_count": 15,
   "id": "aa1736a0",
   "metadata": {},
   "outputs": [],
   "source": [
    "y_visual = matrix_visual['ADHD/NT'].map({'NT': 0, 'ADHD': 1})\n",
    "y_salience = matrix_salience['ADHD/NT'].map({'NT': 0, 'ADHD': 1})\n",
    "y_fp = matrix_fp['ADHD/NT'].map({'NT': 0, 'ADHD': 1})"
   ]
  },
  {
   "cell_type": "markdown",
   "id": "935ec794",
   "metadata": {},
   "source": [
    "## Function"
   ]
  },
  {
   "cell_type": "code",
   "execution_count": 27,
   "id": "a909b36c",
   "metadata": {},
   "outputs": [],
   "source": [
    "def run_rf_analysis(X, y, network_name='Network'):\n",
    "    print(f\"\\n=== Analyzing {network_name} ===\")\n",
    "    \n",
    "    # 1. Scaling\n",
    "    scaler = StandardScaler()\n",
    "    X_scaled = scaler.fit_transform(X)\n",
    "    \n",
    "    # 2. Model\n",
    "    model = RandomForestClassifier(random_state=42, n_estimators=100)\n",
    "    \n",
    "    # 3. Cross-validation (Stratified)\n",
    "    cv = StratifiedKFold(n_splits=5, shuffle=True, random_state=42)\n",
    "    \n",
    "    # Accuracy\n",
    "    scores = cross_val_score(model, X_scaled, y, cv=cv, scoring='accuracy')\n",
    "    print(f\"Cross-validated Accuracy: {scores.mean():.3f} ± {scores.std():.3f}\")\n",
    "    \n",
    "    # AUC\n",
    "    y_proba = cross_val_predict(model, X_scaled, y, cv=cv, method='predict_proba')[:, 1]\n",
    "    auc = roc_auc_score(y, y_proba)\n",
    "    print(f\"AUC-ROC Score: {auc:.3f}\")\n",
    "    \n",
    "    # Classification Report (train on full data for interpretability)\n",
    "    model.fit(X_scaled, y)\n",
    "    y_pred = model.predict(X_scaled)\n",
    "    print(\"\\nClassification Report (on full data):\")\n",
    "    print(classification_report(y, y_pred))\n",
    "    \n",
    "    # Confusion matrix\n",
    "    cm = confusion_matrix(y, y_pred)\n",
    "    sns.heatmap(cm, annot=True, fmt='d', cmap='Blues')\n",
    "    plt.title(f'{network_name} Confusion Matrix')\n",
    "    plt.xlabel('Predicted'); plt.ylabel('True')\n",
    "    plt.show()\n",
    "\n",
    "    # 4. Feature Importance\n",
    "    importances = model.feature_importances_\n",
    "    feature_names = X.columns\n",
    "\n",
    "    importance_df = pd.DataFrame({\n",
    "        'Feature': feature_names,\n",
    "        'Importance': importances\n",
    "    }).sort_values(by='Importance', ascending=False)\n",
    "\n",
    "    plt.figure()\n",
    "    sns.barplot(x='Importance', y='Feature', data=importance_df)\n",
    "    plt.title(f'{network_name} - Feature Importance')\n",
    "    plt.tight_layout()\n",
    "    plt.show()\n"
   ]
  },
  {
   "cell_type": "code",
   "execution_count": 24,
   "id": "07efacad",
   "metadata": {},
   "outputs": [
    {
     "name": "stdout",
     "output_type": "stream",
     "text": [
      "\n",
      "=== Analyzing Visual Network ===\n",
      "Cross-validated Accuracy: 0.631 ± 0.043\n",
      "AUC-ROC Score: 0.686\n",
      "\n",
      "Classification Report (on full data):\n",
      "              precision    recall  f1-score   support\n",
      "\n",
      "           0       1.00      1.00      1.00        60\n",
      "           1       1.00      1.00      1.00       108\n",
      "\n",
      "    accuracy                           1.00       168\n",
      "   macro avg       1.00      1.00      1.00       168\n",
      "weighted avg       1.00      1.00      1.00       168\n",
      "\n"
     ]
    },
    {
     "data": {
      "image/png": "[encoded data removed]",
      "text/plain": [
       "<Figure size 640x480 with 2 Axes>"
      ]
     },
     "metadata": {},
     "output_type": "display_data"
    },
    {
     "data": {
      "image/png": "[encoded data removed]",
      "text/plain": [
       "<Figure size 800x200 with 1 Axes>"
      ]
     },
     "metadata": {},
     "output_type": "display_data"
    }
   ],
   "source": [
    "# Visual Network\n",
    "run_rf_analysis(X_visual, y_visual, network_name='Visual Network')\n"
   ]
  },
  {
   "cell_type": "code",
   "execution_count": 28,
   "id": "5a15333c",
   "metadata": {},
   "outputs": [
    {
     "name": "stdout",
     "output_type": "stream",
     "text": [
      "\n",
      "=== Analyzing Salience Network ===\n",
      "Cross-validated Accuracy: 0.571 ± 0.011\n",
      "AUC-ROC Score: 0.554\n",
      "\n",
      "Classification Report (on full data):\n",
      "              precision    recall  f1-score   support\n",
      "\n",
      "           0       1.00      1.00      1.00        60\n",
      "           1       1.00      1.00      1.00       108\n",
      "\n",
      "    accuracy                           1.00       168\n",
      "   macro avg       1.00      1.00      1.00       168\n",
      "weighted avg       1.00      1.00      1.00       168\n",
      "\n"
     ]
    },
    {
     "data": {
      "image/png": "[encoded data removed]",
      "text/plain": [
       "<Figure size 640x480 with 2 Axes>"
      ]
     },
     "metadata": {},
     "output_type": "display_data"
    },
    {
     "data": {
      "image/png": "[encoded data removed]",
      "text/plain": [
       "<Figure size 640x480 with 1 Axes>"
      ]
     },
     "metadata": {},
     "output_type": "display_data"
    }
   ],
   "source": [
    "# Salience Network\n",
    "run_rf_analysis(X_salience, y_salience, network_name='Salience Network')"
   ]
  },
  {
   "cell_type": "code",
   "execution_count": 26,
   "id": "dd747c55",
   "metadata": {},
   "outputs": [
    {
     "name": "stdout",
     "output_type": "stream",
     "text": [
      "\n",
      "=== Analyzing Central Executive Network ===\n",
      "Cross-validated Accuracy: 0.625 ± 0.080\n",
      "AUC-ROC Score: 0.610\n",
      "\n",
      "Classification Report (on full data):\n",
      "              precision    recall  f1-score   support\n",
      "\n",
      "           0       1.00      0.98      0.99        60\n",
      "           1       0.99      1.00      1.00       108\n",
      "\n",
      "    accuracy                           0.99       168\n",
      "   macro avg       1.00      0.99      0.99       168\n",
      "weighted avg       0.99      0.99      0.99       168\n",
      "\n"
     ]
    },
    {
     "data": {
      "image/png": "[encoded data removed]",
      "text/plain": [
       "<Figure size 640x480 with 2 Axes>"
      ]
     },
     "metadata": {},
     "output_type": "display_data"
    },
    {
     "name": "stderr",
     "output_type": "stream",
     "text": [
      "/var/folders/x2/p4tywwxn5bvcgmwb3s6kshl80000gn/T/ipykernel_41138/59281739.py:48: UserWarning: Tight layout not applied. The bottom and top margins cannot be made large enough to accommodate all Axes decorations.\n",
      "  plt.tight_layout()\n"
     ]
    },
    {
     "data": {
      "image/png": "[encoded data removed]",
      "text/plain": [
       "<Figure size 800x50 with 1 Axes>"
      ]
     },
     "metadata": {},
     "output_type": "display_data"
    }
   ],
   "source": [
    "# Central Executive / Frontoparietal Network\n",
    "run_rf_analysis(X_fp, y_fp, network_name='Central Executive Network')"
   ]
  }
 ],
 "metadata": {
  "kernelspec": {
   "display_name": ".ENGSCI700",
   "language": "python",
   "name": "python3"
  },
  "language_info": {
   "codemirror_mode": {
    "name": "ipython",
    "version": 3
   },
   "file_extension": ".py",
   "mimetype": "text/x-python",
   "name": "python",
   "nbconvert_exporter": "python",
   "pygments_lexer": "ipython3",
   "version": "3.13.2"
  }
 },
 "nbformat": 4,
 "nbformat_minor": 5
}
